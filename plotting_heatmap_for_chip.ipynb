{
 "cells": [
  {
   "cell_type": "markdown",
   "metadata": {
    "extensions": {
     "jupyter_dashboards": {
      "version": 1,
      "views": {
       "grid_default": {
        "col": 0,
        "height": 13,
        "hidden": false,
        "row": 4,
        "width": 6
       },
       "report_default": {}
      }
     }
    }
   },
   "source": [
    "# <center>Plotting heatmap from Excel for ChIP data</center>\n",
    "\n",
    "This is a Jupyter notebook that you can use to plot interactively \n",
    "a heatmap from a sheet of an excel file that looks like this \n",
    "\n",
    "![](heatmap_chip_sheet.png)\n",
    "\n",
    "The exact header and row index labels are not important.\n",
    "\n",
    "You will need to rename the sheet you want to plot sns_*, e.g. sns_mcm or sns_pcna"
   ]
  },
  {
   "cell_type": "code",
   "execution_count": 23,
   "metadata": {
    "extensions": {
     "jupyter_dashboards": {
      "version": 1,
      "views": {
       "grid_default": {
        "col": 0,
        "height": 16,
        "hidden": false,
        "row": 17,
        "width": 6
       },
       "report_default": {}
      }
     }
    },
    "init_cell": true
   },
   "outputs": [
    {
     "data": {
      "application/vnd.jupyter.widget-view+json": {
       "model_id": "4ab4be67afe44c44af5adf1c2a6aabcc",
       "version_major": 2,
       "version_minor": 0
      },
      "text/plain": [
       "interactive(children=(Dropdown(description='File name:', options=('Choose file', '/mnt/c/Users/niczilio/OneDri…"
      ]
     },
     "metadata": {},
     "output_type": "display_data"
    }
   ],
   "source": [
    "import os\n",
    "import pandas as pd\n",
    "import seaborn as sns\n",
    "import matplotlib.pyplot as plt\n",
    "from mpl_toolkits.axes_grid1 import make_axes_locatable\n",
    "from ipywidgets import interact, interactive, fixed, interact_manual\n",
    "import ipywidgets as widgets\n",
    "from IPython.display import display\n",
    "\n",
    "%matplotlib inline\n",
    "\n",
    "# Set Arial 12 pt as default font for plotting and embedd font in file \n",
    "# when exporting to pdf\n",
    "\n",
    "plt.rc('font', family='Arial', size = 12)\n",
    "plt.rc('pdf', fonttype=42)\n",
    "\n",
    "def get_excel_files():\n",
    "    \"\"\"Get all .xlsx files from current directory\"\"\"\n",
    "    \n",
    "    excel_file_list = []\n",
    "    for file in os.listdir(os.getcwd()):\n",
    "        if file.lower().endswith(\".xlsx\"):\n",
    "            excel_file_list.append(os.path.join(os.getcwd(), file))\n",
    "    return ['Choose a file'] + excel_file_list\n",
    "\n",
    "def get_excel_sheet_names(excel_file):\n",
    "    \"\"\"Get all sheets that start with sns_ in an excel file\"\"\"\n",
    "    return [sheet_name for sheet_name in pd.ExcelFile(excel_file).sheet_names if sheet_name.startswith('sns_')]\n",
    "\n",
    "file_widget = widgets.Dropdown(\n",
    "    options=get_excel_files(),\n",
    "    description='File name:',\n",
    "    disabled=False) \n",
    "\n",
    "sheet_widget = widgets.Dropdown(\n",
    "    description='Sheet name:',\n",
    "    disabled=False)\n",
    "\n",
    "def update_sheet_range(*args):\n",
    "    \"\"\"Update list of sheets options based on selected escel file\"\"\"\n",
    "    sheet_widget.options = get_excel_sheet_names(file_widget.value)\n",
    "file_widget.observe(update_sheet_range, 'value')\n",
    "\n",
    "split_column_widget = widgets.IntSlider(\n",
    "    min=0,\n",
    "    step=1,\n",
    "    description='Split by col #:',\n",
    "    disabled=False,\n",
    "    orientation='horizontal')\n",
    "\n",
    "scale_choice_widget = widgets.Checkbox(\n",
    "    value=False,\n",
    "    description='Same scale?',\n",
    "    disabled=False)\n",
    "\n",
    "position_x_labels_widget = widgets.Dropdown(\n",
    "    options=[\"top\", \"bottom\"],\n",
    "    description='x labels pos.:',\n",
    "    disabled=False) \n",
    "\n",
    "save_choice_widget = widgets.ToggleButton(\n",
    "    value=False,\n",
    "    description='Save plot',\n",
    "    disabled=False,\n",
    "    button_style='',\n",
    "    tooltip='Save plot as pdf')\n",
    "\n",
    "def update_column_range(*args):\n",
    "    \"\"\"Set max of split by column slider to # of columns selected sheet/dataframe\"\"\"\n",
    "    try:\n",
    "        split_column_widget.max = len(pd.read_excel(file_widget.value, sheet_name=get_excel_sheet_names(file_widget.value)[0]).columns) - 1\n",
    "    except IndexError:\n",
    "        pass\n",
    "        \n",
    "file_widget.observe(update_column_range, 'value')\n",
    "\n",
    "cmap_widget = widgets.Dropdown(\n",
    "    options=[ 'YlGnBu', 'OrRd',\n",
    "            'Greys', 'Purples', 'Blues', 'Greens', 'Oranges', 'Reds',\n",
    "            'YlOrBr', 'YlOrRd', 'PuRd', 'RdPu', 'BuPu',\n",
    "            'GnBu', 'PuBu', 'PuBuGn', 'BuGn', 'YlGn'],\n",
    "    description='Colour map:',\n",
    "    disabled=False) \n",
    "\n",
    "def plot_one_heatmap(input_df, labels, vmax, ax, cmap, position_y_labels, position_x_labels):\n",
    "    \"\"\"Plot heatmap\"\"\"\n",
    "    \n",
    "    divider = make_axes_locatable(ax)\n",
    "    \n",
    "    cax_width = str(50/len(input_df.columns)) + \"%\"\n",
    "    \n",
    "    if position_y_labels == \"left\":\n",
    "        cax = divider.append_axes(\"right\", size=cax_width, pad=0.05)\n",
    "    else:\n",
    "        cax = divider.append_axes(\"left\", size=cax_width, pad=0.05)\n",
    "    sns.heatmap(input_df, cmap=cmap, square=True, ax=ax, vmin = 0, vmax=vmax,\n",
    "                        linewidths=0, cbar_ax = cax)\n",
    "    if position_y_labels == \"left\":\n",
    "        ax.yaxis.tick_left()\n",
    "    else:\n",
    "        ax.yaxis.tick_right()\n",
    "        cax.yaxis.tick_left() \n",
    "    if position_x_labels == \"top\":\n",
    "        ax.xaxis.tick_top() \n",
    "    ax.set_ylabel(labels.upper(), fontsize=14, fontweight='bold')\n",
    "    ax.xaxis.set_ticks_position('none')\n",
    "    ax.yaxis.set_ticks_position('none') \n",
    "    ax.tick_params('y', rotation = 0)\n",
    "    ax.tick_params('x', rotation = 90)\n",
    "\n",
    "def plot_heatmap(excel_file, sheet, cmap, split_column, scale_choice, position_x_labels, save):\n",
    "    \"\"\"Plot the desired type of heatmap\"\"\"\n",
    "    \n",
    "    try:\n",
    "        input_df = pd.read_excel(excel_file, sheet_name=sheet, index_col=0)\n",
    "        label = sheet.split(\"_\")[1]\n",
    "                \n",
    "        if split_column == 0:\n",
    "            fig, ax = plt.subplots(1,1, figsize=(5,3.5))\n",
    "            plot_one_heatmap(input_df, label, None, ax, cmap, \"left\", position_x_labels)\n",
    "        else:\n",
    "            fig, ax = plt.subplots(1,2, figsize=(10,3.5))\n",
    "            if not scale_choice:\n",
    "                vmax = None\n",
    "            else:\n",
    "                vmax = input_df.max().max()\n",
    "            plot_one_heatmap(input_df.iloc[:,:split_column], label, vmax, ax[0], cmap, \"left\", position_x_labels)\n",
    "            plot_one_heatmap(input_df.iloc[:,split_column-1:], \"\", vmax, ax[1], cmap, \"right\", position_x_labels)\n",
    "        plt.tight_layout()\n",
    "        if save:\n",
    "            fig.savefig(excel_file.split('.')[0] + \"_\" + label + \".pdf\")\n",
    "            save_choice_widget.value = False\n",
    "    except IOError:\n",
    "        print(\"Cannot save PDF because a file by the same name is already open\")\n",
    "    except AttributeError:\n",
    "        print(\"The Excel file you selected doesn't seem right\")\n",
    "    except:\n",
    "        print(\"Select a valid file and sheet\")\n",
    "        \n",
    "x=interactive(plot_heatmap, \n",
    "              excel_file=file_widget,\n",
    "              sheet=sheet_widget,\n",
    "              cmap = cmap_widget,\n",
    "              split_column = split_column_widget,\n",
    "              scale_choice=scale_choice_widget,\n",
    "              position_x_labels = position_x_labels_widget,\n",
    "              save=save_choice_widget)\n",
    "display(x)"
   ]
  }
 ],
 "metadata": {
  "extensions": {
   "jupyter_dashboards": {
    "activeView": "grid_default",
    "version": 1,
    "views": {
     "grid_default": {
      "cellMargin": 10,
      "defaultCellHeight": 20,
      "maxColumns": 12,
      "name": "grid",
      "type": "grid"
     },
     "report_default": {
      "name": "report",
      "type": "report"
     }
    }
   }
  },
  "kernelspec": {
   "display_name": "Python 3.7",
   "language": "python",
   "name": "py37ikernel"
  },
  "language_info": {
   "codemirror_mode": {
    "name": "ipython",
    "version": 3
   },
   "file_extension": ".py",
   "mimetype": "text/x-python",
   "name": "python",
   "nbconvert_exporter": "python",
   "pygments_lexer": "ipython3",
   "version": "3.7.6"
  }
 },
 "nbformat": 4,
 "nbformat_minor": 4
}
